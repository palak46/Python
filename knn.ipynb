{
 "cells": [
  {
   "cell_type": "code",
   "execution_count": 2,
   "metadata": {},
   "outputs": [
    {
     "name": "stdout",
     "output_type": "stream",
     "text": [
      "Collecting sklearn\n",
      "  Downloading https://files.pythonhosted.org/packages/1e/7a/dbb3be0ce9bd5c8b7e3d87328e79063f8b263b2b1bfa4774cb1147bfcd3f/sklearn-0.0.tar.gz\n",
      "Requirement already satisfied: scikit-learn in c:\\anaconda\\lib\\site-packages (from sklearn) (0.19.1)\n",
      "Building wheels for collected packages: sklearn\n",
      "  Running setup.py bdist_wheel for sklearn: started\n",
      "  Running setup.py bdist_wheel for sklearn: finished with status 'done'\n",
      "  Stored in directory: C:\\Users\\MY computer\\AppData\\Local\\pip\\Cache\\wheels\\76\\03\\bb\\589d421d27431bcd2c6da284d5f2286c8e3b2ea3cf1594c074\n",
      "Successfully built sklearn\n",
      "Installing collected packages: sklearn\n",
      "Successfully installed sklearn-0.0\n"
     ]
    }
   ],
   "source": [
    "!pip install sklearn"
   ]
  },
  {
   "cell_type": "code",
   "execution_count": 24,
   "metadata": {},
   "outputs": [
    {
     "data": {
      "text/plain": [
       "<matplotlib.collections.PathCollection at 0x207951064a8>"
      ]
     },
     "execution_count": 24,
     "metadata": {},
     "output_type": "execute_result"
    },
    {
     "data": {
      "image/png": "[encoded data removed]",
      "text/plain": [
       "<matplotlib.figure.Figure at 0x20793f68b00>"
      ]
     },
     "metadata": {},
     "output_type": "display_data"
    }
   ],
   "source": [
    "import numpy as np\n",
    "from sklearn.model_selection import train_test_split\n",
    "import matplotlib.pyplot as plt\n",
    "%matplotlib inline\n",
    "np.random.seed(2019)\n",
    "data=np.random.randn(200,2)\n",
    "data[:100,0]=data[:100,0]*4+10\n",
    "data[:100,1]=data[:100,1]*4+5\n",
    "\n",
    "\n",
    "data[100:,0]=data[100:,0]*4+18\n",
    "data[100:,1]=data[100:,1]*4+13\n",
    "\n",
    "y=np.append(np.ones(100),np.zeros(100))\n",
    "\n",
    "plt.scatter(data[:100,0],data[:100,1],color='red',marker=\"o\",label=\"class1\")\n",
    "plt.scatter(data[100:,0],data[100:,1],color='blue',marker=\"o\",label=\"class1\")\n"
   ]
  },
  {
   "cell_type": "code",
   "execution_count": 25,
   "metadata": {},
   "outputs": [],
   "source": [
    "X_train,X_test,y_train,y_test=train_test_split(data,y,test_size=0.5,stratify=y)"
   ]
  },
  {
   "cell_type": "code",
   "execution_count": 55,
   "metadata": {},
   "outputs": [],
   "source": [
    "t_x=X_train[:100,0]\n",
    "t_y=X_train[:100,1]\n"
   ]
  },
  {
   "cell_type": "code",
   "execution_count": 33,
   "metadata": {},
   "outputs": [],
   "source": [
    "def cal(x,y):\n",
    "    result=np.sqrt(np.square(t_x-x)+np.square(t_y-y))\n",
    "    minvalue=np.min(result)\n",
    "    index=list(result).index(minvalue)\n",
    "    return y_train[index]"
   ]
  },
  {
   "cell_type": "code",
   "execution_count": 35,
   "metadata": {},
   "outputs": [],
   "source": [
    "m_train_list=[]\n",
    "for i in range(0,100):\n",
    "    x=X_test[i,0]\n",
    "    y=X_test[i,1]\n",
    "    m_train_list.append(cal(x,y))"
   ]
  },
  {
   "cell_type": "code",
   "execution_count": 37,
   "metadata": {},
   "outputs": [],
   "source": [
    "count=0\n",
    "for i in range(0,100):\n",
    "    if m_train_list[i]==y_test[i]:\n",
    "        count=count+1"
   ]
  },
  {
   "cell_type": "code",
   "execution_count": 38,
   "metadata": {},
   "outputs": [
    {
     "data": {
      "text/plain": [
       "84"
      ]
     },
     "execution_count": 38,
     "metadata": {},
     "output_type": "execute_result"
    }
   ],
   "source": [
    "count"
   ]
  },
  {
   "cell_type": "code",
   "execution_count": null,
   "metadata": {},
   "outputs": [],
   "source": []
  },
  {
   "cell_type": "raw",
   "metadata": {},
   "source": []
  },
  {
   "cell_type": "code",
   "execution_count": null,
   "metadata": {},
   "outputs": [],
   "source": []
  },
  {
   "cell_type": "code",
   "execution_count": null,
   "metadata": {},
   "outputs": [],
   "source": []
  },
  {
   "cell_type": "code",
   "execution_count": null,
   "metadata": {},
   "outputs": [],
   "source": []
  },
  {
   "cell_type": "code",
   "execution_count": null,
   "metadata": {},
   "outputs": [],
   "source": []
  },
  {
   "cell_type": "code",
   "execution_count": 53,
   "metadata": {},
   "outputs": [],
   "source": [
    "# for 5 points"
   ]
  },
  {
   "cell_type": "code",
   "execution_count": 78,
   "metadata": {},
   "outputs": [
    {
     "data": {
      "text/plain": [
       "<matplotlib.collections.PathCollection at 0x207952eef28>"
      ]
     },
     "execution_count": 78,
     "metadata": {},
     "output_type": "execute_result"
    },
    {
     "data": {
      "image/png": "[encoded data removed]",
      "text/plain": [
       "<matplotlib.figure.Figure at 0x20793f569b0>"
      ]
     },
     "metadata": {},
     "output_type": "display_data"
    }
   ],
   "source": [
    "import numpy as np\n",
    "from sklearn.model_selection import train_test_split\n",
    "import matplotlib.pyplot as plt\n",
    "%matplotlib inline\n",
    "np.random.seed(2019)\n",
    "data=np.random.randn(200,2)\n",
    "data[:100,0]=data[:100,0]*4+10\n",
    "data[:100,1]=data[:100,1]*4+5\n",
    "\n",
    "\n",
    "data[100:,0]=data[100:,0]*4+18\n",
    "data[100:,1]=data[100:,1]*4+13\n",
    "\n",
    "y=np.append(np.ones(100),np.zeros(100))\n",
    "\n",
    "plt.scatter(data[:100,0],data[:100,1],color='red',marker=\"o\",label=\"class1\")\n",
    "plt.scatter(data[100:,0],data[100:,1],color='blue',marker=\"o\",label=\"class1\")\n"
   ]
  },
  {
   "cell_type": "code",
   "execution_count": 79,
   "metadata": {},
   "outputs": [],
   "source": [
    "X_train,X_test,y_train,y_test=train_test_split(data,y,test_size=0.5,stratify=y)"
   ]
  },
  {
   "cell_type": "code",
   "execution_count": 80,
   "metadata": {},
   "outputs": [],
   "source": [
    "t_x=X_train[:100,0]\n",
    "t_y=X_train[:100,1]\n"
   ]
  },
  {
   "cell_type": "code",
   "execution_count": 81,
   "metadata": {},
   "outputs": [],
   "source": [
    "def cal(x,y):\n",
    "    number_of_neighbour=7\n",
    "    result=np.sqrt(np.square(t_x-x)+np.square(t_y-y))\n",
    "    sorted_result=np.sort(result)\n",
    "    sorted_result=sorted_result[:number_of_neighbour]\n",
    "    m_index_list=[]\n",
    "    for i in range(0,number_of_neighbour):\n",
    "        m_index_list.append(list(result).index(sorted_result[i]))\n",
    "    values=[]\n",
    "    for i in range(0,number_of_neighbour):\n",
    "        values.append(y_train[m_index_list[i]])\n",
    "    red=0\n",
    "    blue=0\n",
    "    for i in range(0,number_of_neighbour):\n",
    "        if values[i]==1:\n",
    "            red=red+1\n",
    "        else:\n",
    "            blue=blue+1\n",
    "    if(red>=3):\n",
    "        return 1\n",
    "    else:\n",
    "        return 0"
   ]
  },
  {
   "cell_type": "code",
   "execution_count": 82,
   "metadata": {},
   "outputs": [],
   "source": [
    "m_train_list=[]\n",
    "for i in range(0,100):\n",
    "    x=X_test[i,0]\n",
    "    y=X_test[i,1]\n",
    "    m_train_list.append(cal(x,y))"
   ]
  },
  {
   "cell_type": "code",
   "execution_count": 83,
   "metadata": {},
   "outputs": [],
   "source": [
    "count=0\n",
    "for i in range(0,100):\n",
    "    if m_train_list[i]==y_test[i]:\n",
    "        count=count+1"
   ]
  },
  {
   "cell_type": "code",
   "execution_count": 84,
   "metadata": {},
   "outputs": [
    {
     "data": {
      "text/plain": [
       "96"
      ]
     },
     "execution_count": 84,
     "metadata": {},
     "output_type": "execute_result"
    }
   ],
   "source": [
    "count"
   ]
  },
  {
   "cell_type": "code",
   "execution_count": null,
   "metadata": {},
   "outputs": [],
   "source": []
  }
 ],
 "metadata": {
  "kernelspec": {
   "display_name": "Python 3",
   "language": "python",
   "name": "python3"
  },
  "language_info": {
   "codemirror_mode": {
    "name": "ipython",
    "version": 3
   },
   "file_extension": ".py",
   "mimetype": "text/x-python",
   "name": "python",
   "nbconvert_exporter": "python",
   "pygments_lexer": "ipython3",
   "version": "3.6.4"
  }
 },
 "nbformat": 4,
 "nbformat_minor": 2
}
