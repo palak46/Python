{
 "cells": [
  {
   "cell_type": "raw",
   "metadata": {},
   "source": []
  },
  {
   "cell_type": "code",
   "execution_count": 441,
   "metadata": {},
   "outputs": [],
   "source": [
    "import numpy as np\n",
    "import pandas as pd"
   ]
  },
  {
   "cell_type": "code",
   "execution_count": 442,
   "metadata": {},
   "outputs": [
    {
     "data": {
      "text/plain": [
       "(140, 1)"
      ]
     },
     "execution_count": 442,
     "metadata": {},
     "output_type": "execute_result"
    }
   ],
   "source": [
    "data=(pd.read_csv('logistic_reg_data.csv'))\n",
    "data=data.values\n",
    "np.random.shuffle(data)\n",
    "x=data[:,1:3]\n",
    "y=data[:,3].reshape(200,1)\n",
    "x0=np.ones((200,1))\n",
    "x=np.hstack((x0,x))\n",
    "x_train=x[:140]\n",
    "x_test=x[140:]\n",
    "y_train=y[:140]\n",
    "y_test=y[140:]\n",
    "y_train.shape"
   ]
  },
  {
   "cell_type": "code",
   "execution_count": 443,
   "metadata": {},
   "outputs": [],
   "source": [
    "theta=np.random.rand(3,1)\n"
   ]
  },
  {
   "cell_type": "code",
   "execution_count": 444,
   "metadata": {},
   "outputs": [
    {
     "name": "stderr",
     "output_type": "stream",
     "text": [
      "C:\\Anaconda\\lib\\site-packages\\ipykernel_launcher.py:2: RuntimeWarning: overflow encountered in exp\n",
      "  \n"
     ]
    }
   ],
   "source": [
    "for i in range(1,10000):\n",
    "    dot_product=np.dot(x_train,theta)\n",
    "    d=sigmoid(dot_product)\n",
    "    cost_der=np.dot(x_train.T,(y_train-d))\n",
    "    theta=theta+(.1*cost_der)\n"
   ]
  },
  {
   "cell_type": "code",
   "execution_count": 445,
   "metadata": {},
   "outputs": [],
   "source": [
    "y_predict=np.dot(x_test,theta)\n",
    "y_predict_sig=sigmoid(y_predict)\n"
   ]
  },
  {
   "cell_type": "code",
   "execution_count": 446,
   "metadata": {},
   "outputs": [
    {
     "name": "stdout",
     "output_type": "stream",
     "text": [
      "96.66666666666667\n"
     ]
    }
   ],
   "source": [
    "acc=0\n",
    "for i in range(60):\n",
    "    if int(y_predict_sig[i])==int(y_test[i]):\n",
    "        acc=acc+1\n",
    "acc=(acc/60)*100\n",
    "print(acc)"
   ]
  },
  {
   "cell_type": "code",
   "execution_count": null,
   "metadata": {},
   "outputs": [],
   "source": [
    "\n"
   ]
  },
  {
   "cell_type": "code",
   "execution_count": 310,
   "metadata": {},
   "outputs": [],
   "source": [
    "\n",
    "\n"
   ]
  },
  {
   "cell_type": "code",
   "execution_count": 311,
   "metadata": {},
   "outputs": [],
   "source": []
  },
  {
   "cell_type": "code",
   "execution_count": 343,
   "metadata": {},
   "outputs": [
    {
     "data": {
      "text/plain": [
       "array([[ 10507.78332303],\n",
       "       [ 78649.6387032 ],\n",
       "       [114784.70626952]])"
      ]
     },
     "execution_count": 343,
     "metadata": {},
     "output_type": "execute_result"
    }
   ],
   "source": []
  },
  {
   "cell_type": "code",
   "execution_count": 344,
   "metadata": {
    "scrolled": true
   },
   "outputs": [],
   "source": []
  },
  {
   "cell_type": "code",
   "execution_count": 345,
   "metadata": {},
   "outputs": [
    {
     "name": "stdout",
     "output_type": "stream",
     "text": [
      "50.0\n"
     ]
    }
   ],
   "source": []
  },
  {
   "cell_type": "code",
   "execution_count": 327,
   "metadata": {},
   "outputs": [
    {
     "data": {
      "text/plain": [
       "array([[1.],\n",
       "       [1.],\n",
       "       [1.],\n",
       "       [1.],\n",
       "       [1.],\n",
       "       [1.],\n",
       "       [1.],\n",
       "       [1.],\n",
       "       [1.],\n",
       "       [1.],\n",
       "       [1.],\n",
       "       [1.],\n",
       "       [1.],\n",
       "       [1.],\n",
       "       [1.],\n",
       "       [1.],\n",
       "       [1.],\n",
       "       [1.],\n",
       "       [1.],\n",
       "       [1.],\n",
       "       [1.],\n",
       "       [1.],\n",
       "       [1.],\n",
       "       [1.],\n",
       "       [1.],\n",
       "       [1.],\n",
       "       [1.],\n",
       "       [1.],\n",
       "       [1.],\n",
       "       [1.],\n",
       "       [1.],\n",
       "       [1.],\n",
       "       [1.],\n",
       "       [1.],\n",
       "       [1.],\n",
       "       [1.],\n",
       "       [1.],\n",
       "       [1.],\n",
       "       [1.],\n",
       "       [1.],\n",
       "       [1.],\n",
       "       [1.],\n",
       "       [1.],\n",
       "       [1.],\n",
       "       [1.],\n",
       "       [1.],\n",
       "       [1.],\n",
       "       [1.],\n",
       "       [1.],\n",
       "       [1.],\n",
       "       [1.],\n",
       "       [1.],\n",
       "       [1.],\n",
       "       [1.],\n",
       "       [1.],\n",
       "       [1.],\n",
       "       [1.],\n",
       "       [1.],\n",
       "       [1.],\n",
       "       [1.]])"
      ]
     },
     "execution_count": 327,
     "metadata": {},
     "output_type": "execute_result"
    }
   ],
   "source": []
  },
  {
   "cell_type": "code",
   "execution_count": 325,
   "metadata": {},
   "outputs": [
    {
     "data": {
      "text/plain": [
       "array([[23963.61435972],\n",
       "       [21872.22005492],\n",
       "       [30832.07102558],\n",
       "       [20231.16189988],\n",
       "       [15346.82457086],\n",
       "       [ 6303.48413142],\n",
       "       [12922.46354279],\n",
       "       [13846.02104081],\n",
       "       [25745.18251999],\n",
       "       [15865.78028627],\n",
       "       [26126.62406075],\n",
       "       [20632.54446033],\n",
       "       [13939.4038189 ],\n",
       "       [17217.86458091],\n",
       "       [15877.35176053],\n",
       "       [26478.50423116],\n",
       "       [31051.65013931],\n",
       "       [22240.07148788],\n",
       "       [ 8867.74307091],\n",
       "       [15968.421333  ],\n",
       "       [29828.10440302],\n",
       "       [25520.87118337],\n",
       "       [19856.84344872],\n",
       "       [18744.28612064],\n",
       "       [24763.92172454],\n",
       "       [28059.33343194],\n",
       "       [28980.07275938],\n",
       "       [19383.11996201],\n",
       "       [ 8833.28020895],\n",
       "       [20645.27753682],\n",
       "       [ 8141.66604638],\n",
       "       [27872.29351287],\n",
       "       [15302.80236157],\n",
       "       [ 8918.75534193],\n",
       "       [12565.68844892],\n",
       "       [28179.74274674],\n",
       "       [10094.12041874],\n",
       "       [18043.03164653],\n",
       "       [12265.65518733],\n",
       "       [13113.97120964],\n",
       "       [31043.74416519],\n",
       "       [17409.57193102],\n",
       "       [27403.56720678],\n",
       "       [19232.17967451],\n",
       "       [15091.98683395],\n",
       "       [22044.15065581],\n",
       "       [13412.71531224],\n",
       "       [29215.8817238 ],\n",
       "       [22026.07448131],\n",
       "       [31356.90702454],\n",
       "       [ 9038.09175028],\n",
       "       [23880.92226569],\n",
       "       [15184.43977359],\n",
       "       [20932.93718377],\n",
       "       [28518.67781997],\n",
       "       [ 8735.75592025],\n",
       "       [10001.14073657],\n",
       "       [15805.00920317],\n",
       "       [20695.20562751],\n",
       "       [18987.74175931]])"
      ]
     },
     "execution_count": 325,
     "metadata": {},
     "output_type": "execute_result"
    }
   ],
   "source": [
    "y_predict"
   ]
  },
  {
   "cell_type": "markdown",
   "metadata": {},
   "source": []
  },
  {
   "cell_type": "code",
   "execution_count": null,
   "metadata": {},
   "outputs": [],
   "source": []
  },
  {
   "cell_type": "code",
   "execution_count": 26,
   "metadata": {},
   "outputs": [
    {
     "data": {
      "text/plain": [
       "(201, 200)"
      ]
     },
     "execution_count": 26,
     "metadata": {},
     "output_type": "execute_result"
    }
   ],
   "source": []
  },
  {
   "cell_type": "code",
   "execution_count": 130,
   "metadata": {},
   "outputs": [],
   "source": [
    "def cost_function(pred,actual,m):\n",
    "    return -np.sum(actual*np.log(pred)+(1-actual)*np.log(1-pred))/m"
   ]
  },
  {
   "cell_type": "code",
   "execution_count": 132,
   "metadata": {},
   "outputs": [
    {
     "data": {
      "text/plain": [
       "0.6896986871243237"
      ]
     },
     "execution_count": 132,
     "metadata": {},
     "output_type": "execute_result"
    }
   ],
   "source": [
    "cost_function(d,y,201)"
   ]
  },
  {
   "cell_type": "code",
   "execution_count": null,
   "metadata": {},
   "outputs": [],
   "source": []
  },
  {
   "cell_type": "code",
   "execution_count": null,
   "metadata": {},
   "outputs": [],
   "source": []
  },
  {
   "cell_type": "code",
   "execution_count": null,
   "metadata": {},
   "outputs": [],
   "source": []
  },
  {
   "cell_type": "code",
   "execution_count": 114,
   "metadata": {},
   "outputs": [],
   "source": [
    "\n",
    "\n",
    "def gradient_descent():\n",
    "    return"
   ]
  },
  {
   "cell_type": "code",
   "execution_count": null,
   "metadata": {},
   "outputs": [],
   "source": []
  }
 ],
 "metadata": {
  "kernelspec": {
   "display_name": "Python 3",
   "language": "python",
   "name": "python3"
  },
  "language_info": {
   "codemirror_mode": {
    "name": "ipython",
    "version": 3
   },
   "file_extension": ".py",
   "mimetype": "text/x-python",
   "name": "python",
   "nbconvert_exporter": "python",
   "pygments_lexer": "ipython3",
   "version": "3.6.4"
  }
 },
 "nbformat": 4,
 "nbformat_minor": 2
}
